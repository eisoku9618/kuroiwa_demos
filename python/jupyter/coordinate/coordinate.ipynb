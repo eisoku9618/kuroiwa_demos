{
 "cells": [
  {
   "cell_type": "markdown",
   "metadata": {},
   "source": [
    "# 回転行列の定義\n",
    "いろいろな定義があって，よく分からなくなるので，整理する．\n",
    "大きく分けて\n",
    "1. 空間上に点を固定して，その点を表現する座標系そのものを回転させる\n",
    "1. 座標系を固定して，その座標系周りに点を回転させる\n",
    "\n",
    "という2ケースがあって，これらは違うのだけども，その違いが微妙なので，混同しやすい．"
   ]
  },
  {
   "cell_type": "markdown",
   "metadata": {},
   "source": [
    "### 空間上に点を固定して，その点を表現する座標系そのものを回転させる場合の回転行列\n",
    "ある軸Aに回して，次にある軸Bに回して，最後にある軸Cに回す，というように3回ある軸に回す，というように考える．\n",
    "\n",
    "例えば，空間上のある点$Q$をz軸に回すことを考えると，\n",
    "<img src=\"figs/coordinate_rotation.gif\">\n",
    "というように考えれば良い．\n",
    "\n",
    "すなわち，jから見たkの位置ベクトルをi座標系で見たときのベクトルを\n",
    "$$\n",
    "{}^{i}p_{j}^{k}\n",
    "$$\n",
    "と書くことにして，座標系Aのz軸周りに$\\theta$回転させた座標系をBとして，\n",
    "$$\n",
    "{}^{A}p_{O}^{Q} = \\begin{pmatrix}\n",
    "a\\\\\n",
    "b\\\\\n",
    "c\n",
    "\\end{pmatrix}\n",
    "$$\n",
    "とすると\n",
    "$$\n",
    "{}^{B}p_{O}^{Q} =\n",
    "\\begin{pmatrix}\n",
    "a\\cos\\theta + b \\sin\\theta\\\\\n",
    "b\\cos\\theta - a \\sin\\theta\\\\\n",
    "c\n",
    "\\end{pmatrix} =\n",
    "\\begin{pmatrix}\n",
    "\\cos\\theta & \\sin\\theta & 0\\\\\n",
    "-\\sin\\theta & \\cos\\theta & 0\\\\\n",
    "0 & 0 & 1\n",
    "\\end{pmatrix}\n",
    "\\begin{pmatrix}\n",
    "a\\\\\n",
    "b\\\\\n",
    "c\n",
    "\\end{pmatrix} =\n",
    "\\begin{pmatrix}\n",
    "\\cos\\theta & \\sin\\theta & 0\\\\\n",
    "-\\sin\\theta & \\cos\\theta & 0\\\\\n",
    "0 & 0 & 1\n",
    "\\end{pmatrix}\n",
    "{}^{A}p_{O}^{Q}\n",
    "$$\n",
    "となる．\n",
    "\n",
    "上の例ではz軸周りに回していたが，同じ議論がy軸周りの回転，x軸周りの回転にも言える．\n",
    "\n",
    "y軸周りのときは，z-x平面を考えて，\n",
    "$$\n",
    "{}^{B}p_{O}^{Q} =\n",
    "\\begin{pmatrix}\n",
    "a\\cos\\theta - c \\sin\\theta\\\\\n",
    "b\\\\\n",
    "c\\cos\\theta + a \\sin\\theta\\\\\n",
    "\\end{pmatrix} =\n",
    "\\begin{pmatrix}\n",
    "\\cos\\theta & 0 & -\\sin\\theta\\\\\n",
    "0 & 1 & 0\\\\\n",
    "\\sin\\theta & 0 & \\cos\\theta\n",
    "\\end{pmatrix}\n",
    "{}^{A}p_{O}^{Q}\n",
    "$$\n",
    "\n",
    "x軸周りのときは，y-z平面を考えて，\n",
    "$$\n",
    "{}^{B}p_{O}^{Q} =\n",
    "\\begin{pmatrix}\n",
    "a\\\\\n",
    "b\\cos\\theta + c \\sin\\theta\\\\\n",
    "c\\cos\\theta - b \\sin\\theta\\\\\n",
    "\\end{pmatrix} =\n",
    "\\begin{pmatrix}\n",
    "1 & 0 & 0\\\\\n",
    "0 & \\cos\\theta & \\sin\\theta\\\\\n",
    "0 & -\\sin\\theta & \\cos\\theta\n",
    "\\end{pmatrix}\n",
    "{}^{A}p_{O}^{Q}\n",
    "$$\n",
    "となる．\n",
    "\n",
    "よって，座標系Aで表されたある点${}^{A}p_{O}^{Q}$と，\n",
    "座標系Aをロール$\\alpha$・ピッチ$\\beta$・ヨー$\\gamma$で表される回転によって出来た座標系Bで表した${}^{B}p_{O}^{Q}$の関係は\n",
    "$$\n",
    "{}^{B}p_{O}^{Q} =\n",
    "\\begin{pmatrix}\n",
    "1 & 0 & 0\\\\\n",
    "0 & \\cos\\alpha & \\sin\\alpha\\\\\n",
    "0 & -\\sin\\alpha & \\cos\\alpha\n",
    "\\end{pmatrix}\n",
    "\\begin{pmatrix}\n",
    "\\cos\\beta & 0 & -\\sin\\beta\\\\\n",
    "0 & 1 & 0\\\\\n",
    "\\sin\\beta & 0 & \\cos\\beta\n",
    "\\end{pmatrix}\n",
    "\\begin{pmatrix}\n",
    "\\cos\\gamma & \\sin\\gamma & 0\\\\\n",
    "-\\sin\\gamma & \\cos\\gamma & 0\\\\\n",
    "0 & 0 & 1\n",
    "\\end{pmatrix}\n",
    "{}^{A}p_{O}^{Q}\n",
    "$$\n",
    "となる．ちなみに，ロール・ピッチ・ヨーは，まずZ軸周りに$\\gamma$だけ回して，次に回転後のY軸周りに$\\beta$だけ回して，最後に回転後のX軸周りに$\\alpha$だけ回してできた行列のことなので，上のような順番で行列を掛けていくことになる．\n",
    "\n",
    "この逆変換は，回転行列の逆行列が転置であることを利用して，\n",
    "$$\n",
    "\\begin{align}\n",
    "{}^{A}p_{O}^{Q} &=\n",
    "\\left(\n",
    "\\begin{pmatrix}\n",
    "1 & 0 & 0\\\\\n",
    "0 & \\cos\\alpha & \\sin\\alpha\\\\\n",
    "0 & -\\sin\\alpha & \\cos\\alpha\n",
    "\\end{pmatrix}\n",
    "\\begin{pmatrix}\n",
    "\\cos\\beta & 0 & -\\sin\\beta\\\\\n",
    "0 & 1 & 0\\\\\n",
    "\\sin\\beta & 0 & \\cos\\beta\n",
    "\\end{pmatrix}\n",
    "\\begin{pmatrix}\n",
    "\\cos\\gamma & \\sin\\gamma & 0\\\\\n",
    "-\\sin\\gamma & \\cos\\gamma & 0\\\\\n",
    "0 & 0 & 1\n",
    "\\end{pmatrix}\n",
    "\\right)^{T}\n",
    "{}^{B}p_{O}^{Q}\\\\\n",
    "&=\n",
    "\\begin{pmatrix}\n",
    "\\cos\\gamma & \\sin\\gamma & 0\\\\\n",
    "-\\sin\\gamma & \\cos\\gamma & 0\\\\\n",
    "0 & 0 & 1\n",
    "\\end{pmatrix}^{T}\n",
    "\\begin{pmatrix}\n",
    "\\cos\\beta & 0 & -\\sin\\beta\\\\\n",
    "0 & 1 & 0\\\\\n",
    "\\sin\\beta & 0 & \\cos\\beta\n",
    "\\end{pmatrix}^{T}\n",
    "\\begin{pmatrix}\n",
    "1 & 0 & 0\\\\\n",
    "0 & \\cos\\alpha & \\sin\\alpha\\\\\n",
    "0 & -\\sin\\alpha & \\cos\\alpha\n",
    "\\end{pmatrix}^{T}\n",
    "{}^{B}p_{O}^{Q}\\\\\n",
    "&=\n",
    "\\begin{pmatrix}\n",
    "\\cos\\gamma & -\\sin\\gamma & 0\\\\\n",
    "\\sin\\gamma & \\cos\\gamma & 0\\\\\n",
    "0 & 0 & 1\n",
    "\\end{pmatrix}\n",
    "\\begin{pmatrix}\n",
    "\\cos\\beta & 0 & \\sin\\beta\\\\\n",
    "0 & 1 & 0\\\\\n",
    "-\\sin\\beta & 0 & \\cos\\beta\n",
    "\\end{pmatrix}\n",
    "\\begin{pmatrix}\n",
    "1 & 0 & 0\\\\\n",
    "0 & \\cos\\alpha & -\\sin\\alpha\\\\\n",
    "0 & \\sin\\alpha & \\cos\\alpha\n",
    "\\end{pmatrix}\n",
    "{}^{B}p_{O}^{Q}\n",
    "\\end{align}\n",
    "$$\n"
   ]
  },
  {
   "cell_type": "code",
   "execution_count": 20,
   "metadata": {
    "collapsed": false
   },
   "outputs": [
    {
     "name": "stdout",
     "output_type": "stream",
     "text": [
      "R =\n"
     ]
    },
    {
     "data": {
      "image/png": "[encoded data removed]",
      "text/latex": [
       "$$\\left[\\begin{matrix}\\cos{\\left (\\beta \\right )} \\cos{\\left (\\gamma \\right )} & \\sin{\\left (\\gamma \\right )} \\cos{\\left (\\beta \\right )} & - \\sin{\\left (\\beta \\right )}\\\\\\sin{\\left (\\alpha \\right )} \\sin{\\left (\\beta \\right )} \\cos{\\left (\\gamma \\right )} - \\sin{\\left (\\gamma \\right )} \\cos{\\left (\\alpha \\right )} & \\sin{\\left (\\alpha \\right )} \\sin{\\left (\\beta \\right )} \\sin{\\left (\\gamma \\right )} + \\cos{\\left (\\alpha \\right )} \\cos{\\left (\\gamma \\right )} & \\sin{\\left (\\alpha \\right )} \\cos{\\left (\\beta \\right )}\\\\\\sin{\\left (\\alpha \\right )} \\sin{\\left (\\gamma \\right )} + \\sin{\\left (\\beta \\right )} \\cos{\\left (\\alpha \\right )} \\cos{\\left (\\gamma \\right )} & - \\sin{\\left (\\alpha \\right )} \\cos{\\left (\\gamma \\right )} + \\sin{\\left (\\beta \\right )} \\sin{\\left (\\gamma \\right )} \\cos{\\left (\\alpha \\right )} & \\cos{\\left (\\alpha \\right )} \\cos{\\left (\\beta \\right )}\\end{matrix}\\right]$$"
      ],
      "text/plain": [
       "⎡           cos(β)⋅cos(γ)                          sin(γ)⋅cos(β)              \n",
       "⎢                                                                             \n",
       "⎢sin(α)⋅sin(β)⋅cos(γ) - sin(γ)⋅cos(α)  sin(α)⋅sin(β)⋅sin(γ) + cos(α)⋅cos(γ)   \n",
       "⎢                                                                             \n",
       "⎣sin(α)⋅sin(γ) + sin(β)⋅cos(α)⋅cos(γ)  -sin(α)⋅cos(γ) + sin(β)⋅sin(γ)⋅cos(α)  \n",
       "\n",
       "   -sin(β)   ⎤\n",
       "             ⎥\n",
       "sin(α)⋅cos(β)⎥\n",
       "             ⎥\n",
       "cos(α)⋅cos(β)⎦"
      ]
     },
     "metadata": {},
     "output_type": "display_data"
    },
    {
     "name": "stdout",
     "output_type": "stream",
     "text": [
      "R.inv=\n"
     ]
    },
    {
     "data": {
      "image/png": "[encoded data removed]",
      "text/latex": [
       "$$\\left[\\begin{matrix}\\cos{\\left (\\beta \\right )} \\cos{\\left (\\gamma \\right )} & \\sin{\\left (\\alpha \\right )} \\sin{\\left (\\beta \\right )} \\cos{\\left (\\gamma \\right )} - \\sin{\\left (\\gamma \\right )} \\cos{\\left (\\alpha \\right )} & \\sin{\\left (\\alpha \\right )} \\sin{\\left (\\gamma \\right )} + \\sin{\\left (\\beta \\right )} \\cos{\\left (\\alpha \\right )} \\cos{\\left (\\gamma \\right )}\\\\\\sin{\\left (\\gamma \\right )} \\cos{\\left (\\beta \\right )} & \\sin{\\left (\\alpha \\right )} \\sin{\\left (\\beta \\right )} \\sin{\\left (\\gamma \\right )} + \\cos{\\left (\\alpha \\right )} \\cos{\\left (\\gamma \\right )} & - \\sin{\\left (\\alpha \\right )} \\cos{\\left (\\gamma \\right )} + \\sin{\\left (\\beta \\right )} \\sin{\\left (\\gamma \\right )} \\cos{\\left (\\alpha \\right )}\\\\- \\sin{\\left (\\beta \\right )} & \\sin{\\left (\\alpha \\right )} \\cos{\\left (\\beta \\right )} & \\cos{\\left (\\alpha \\right )} \\cos{\\left (\\beta \\right )}\\end{matrix}\\right]$$"
      ],
      "text/plain": [
       "⎡cos(β)⋅cos(γ)  sin(α)⋅sin(β)⋅cos(γ) - sin(γ)⋅cos(α)  sin(α)⋅sin(γ) + sin(β)⋅c\n",
       "⎢                                                                             \n",
       "⎢sin(γ)⋅cos(β)  sin(α)⋅sin(β)⋅sin(γ) + cos(α)⋅cos(γ)  -sin(α)⋅cos(γ) + sin(β)⋅\n",
       "⎢                                                                             \n",
       "⎣   -sin(β)                sin(α)⋅cos(β)                          cos(α)⋅cos(β\n",
       "\n",
       "os(α)⋅cos(γ) ⎤\n",
       "             ⎥\n",
       "sin(γ)⋅cos(α)⎥\n",
       "             ⎥\n",
       ")            ⎦"
      ]
     },
     "metadata": {},
     "output_type": "display_data"
    }
   ],
   "source": [
    "from sympy import init_printing, Symbol, Matrix, symbols\n",
    "from IPython.display import display\n",
    "init_printing()\n",
    "r, p, y = symbols(\"alpha, beta, gamma\")\n",
    "Rx = Matrix([[1, 0, 0],\n",
    "            [0, cos(r), sin(r)],\n",
    "            [0, -sin(r), cos(r)]])\n",
    "Ry = Matrix([[cos(p), 0, -sin(p)],\n",
    "            [0, 1, 0],\n",
    "            [sin(p), 0, cos(p)]])\n",
    "Rz = Matrix([[cos(y), sin(y), 0],\n",
    "            [-sin(y), cos(y), 0],\n",
    "            [0, 0, 1]])\n",
    "R = Rx * Ry * Rz\n",
    "print(\"R =\")\n",
    "display(R)\n",
    "print(\"R.inv=\")\n",
    "display(simplify(R.inv()))"
   ]
  },
  {
   "cell_type": "markdown",
   "metadata": {},
   "source": [
    "### 座標系を固定して，その座標系周りに点を回転させる場合の回転行列\n",
    "上記と同様な手順で考えるが，今回イメージしたい図は以下．\n",
    "<img src=\"figs/point_rotation.png\">\n",
    "\n",
    "今回は${}^{A}p_{O}^{Q}$が座標系A上で回転して${}^{A}p_{O}^{R}$になる．図より\n",
    "$$\n",
    "\\begin{align}\n",
    "{}^{A}p_{O}^{Q} &=\n",
    "\\begin{pmatrix}\n",
    "a\\\\\n",
    "b\\\\\n",
    "c\n",
    "\\end{pmatrix} =\n",
    "\\begin{pmatrix}\n",
    "r \\cos\\phi\\\\\n",
    "r \\sin\\phi\\\\\n",
    "c\n",
    "\\end{pmatrix}\\\\\n",
    "{}^{A}p_{O}^{R} &=\n",
    "\\begin{pmatrix}\n",
    "a^{'}\\\\\n",
    "b^{'}\\\\\n",
    "c^{'}\n",
    "\\end{pmatrix} =\n",
    "\\begin{pmatrix}\n",
    "r \\cos(\\phi+\\theta)\\\\\n",
    "r \\sin(\\phi+\\theta)\\\\\n",
    "c\n",
    "\\end{pmatrix} =\n",
    "\\begin{pmatrix}\n",
    "r (\\cos\\phi\\cos\\theta - \\sin\\phi\\sin\\theta)\\\\\n",
    "r (\\sin\\phi\\cos\\theta + \\cos\\phi\\sin\\theta)\\\\\n",
    "c\n",
    "\\end{pmatrix} =\n",
    "\\begin{pmatrix}\n",
    "\\cos\\theta & -\\sin\\theta & 0\\\\\n",
    "\\sin\\theta & \\cos\\theta & 0\\\\\n",
    "0 & 0 & 1\n",
    "\\end{pmatrix}\n",
    "\\begin{pmatrix}\n",
    "r \\cos\\phi\\\\\n",
    "r \\sin\\phi\\\\\n",
    "c\n",
    "\\end{pmatrix}\n",
    "\\end{align}\n",
    "$$\n",
    "なので，\n",
    "$$\n",
    "{}^{A}p_{O}^{R} =\n",
    "\\begin{pmatrix}\n",
    "\\cos\\theta & -\\sin\\theta & 0\\\\\n",
    "\\sin\\theta & \\cos\\theta & 0\\\\\n",
    "0 & 0 & 1\n",
    "\\end{pmatrix}\n",
    "{}^{A}p_{O}^{Q}\n",
    "$$\n",
    "となる．\n",
    "座標系自体を回転させる時と似ているが，sinの係数の正負が異なることに注意．\n",
    "\n",
    "よって，座標系Aで表されたある点${}^{A}p_{O}^{Q}$を，\n",
    "座標系Aの各軸についてロール・ピッチー・ヨーで回したあとの点${}^{A}p_{O}^{R}$は\n",
    "$$\n",
    "{}^{A}p_{O}^{R} =\n",
    "\\begin{pmatrix}\n",
    "1 & 0 & 0\\\\\n",
    "0 & \\cos\\alpha & -\\sin\\alpha\\\\\n",
    "0 & \\sin\\alpha & \\cos\\alpha\n",
    "\\end{pmatrix}\n",
    "\\begin{pmatrix}\n",
    "\\cos\\beta & 0 & \\sin\\beta\\\\\n",
    "0 & 1 & 0\\\\\n",
    "-\\sin\\beta & 0 & \\cos\\beta\n",
    "\\end{pmatrix}\n",
    "\\begin{pmatrix}\n",
    "\\cos\\gamma & -\\sin\\gamma & 0\\\\\n",
    "\\sin\\gamma & \\cos\\gamma & 0\\\\\n",
    "0 & 0 & 1\n",
    "\\end{pmatrix}\n",
    "{}^{A}p_{O}^{Q}\n",
    "$$\n",
    "となる．"
   ]
  },
  {
   "cell_type": "code",
   "execution_count": 21,
   "metadata": {
    "collapsed": false
   },
   "outputs": [
    {
     "name": "stdout",
     "output_type": "stream",
     "text": [
      "R =\n"
     ]
    },
    {
     "data": {
      "image/png": "[encoded data removed]",
      "text/latex": [
       "$$\\left[\\begin{matrix}\\cos{\\left (\\beta \\right )} \\cos{\\left (\\gamma \\right )} & - \\sin{\\left (\\gamma \\right )} \\cos{\\left (\\beta \\right )} & \\sin{\\left (\\beta \\right )}\\\\\\sin{\\left (\\alpha \\right )} \\sin{\\left (\\beta \\right )} \\cos{\\left (\\gamma \\right )} + \\sin{\\left (\\gamma \\right )} \\cos{\\left (\\alpha \\right )} & - \\sin{\\left (\\alpha \\right )} \\sin{\\left (\\beta \\right )} \\sin{\\left (\\gamma \\right )} + \\cos{\\left (\\alpha \\right )} \\cos{\\left (\\gamma \\right )} & - \\sin{\\left (\\alpha \\right )} \\cos{\\left (\\beta \\right )}\\\\\\sin{\\left (\\alpha \\right )} \\sin{\\left (\\gamma \\right )} - \\sin{\\left (\\beta \\right )} \\cos{\\left (\\alpha \\right )} \\cos{\\left (\\gamma \\right )} & \\sin{\\left (\\alpha \\right )} \\cos{\\left (\\gamma \\right )} + \\sin{\\left (\\beta \\right )} \\sin{\\left (\\gamma \\right )} \\cos{\\left (\\alpha \\right )} & \\cos{\\left (\\alpha \\right )} \\cos{\\left (\\beta \\right )}\\end{matrix}\\right]$$"
      ],
      "text/plain": [
       "⎡           cos(β)⋅cos(γ)                         -sin(γ)⋅cos(β)              \n",
       "⎢                                                                             \n",
       "⎢sin(α)⋅sin(β)⋅cos(γ) + sin(γ)⋅cos(α)  -sin(α)⋅sin(β)⋅sin(γ) + cos(α)⋅cos(γ)  \n",
       "⎢                                                                             \n",
       "⎣sin(α)⋅sin(γ) - sin(β)⋅cos(α)⋅cos(γ)  sin(α)⋅cos(γ) + sin(β)⋅sin(γ)⋅cos(α)   \n",
       "\n",
       "    sin(β)    ⎤\n",
       "              ⎥\n",
       "-sin(α)⋅cos(β)⎥\n",
       "              ⎥\n",
       "cos(α)⋅cos(β) ⎦"
      ]
     },
     "metadata": {},
     "output_type": "display_data"
    },
    {
     "name": "stdout",
     "output_type": "stream",
     "text": [
      "R.inv=\n"
     ]
    },
    {
     "data": {
      "image/png": "[encoded data removed]",
      "text/latex": [
       "$$\\left[\\begin{matrix}\\cos{\\left (\\beta \\right )} \\cos{\\left (\\gamma \\right )} & \\sin{\\left (\\alpha \\right )} \\sin{\\left (\\beta \\right )} \\cos{\\left (\\gamma \\right )} + \\sin{\\left (\\gamma \\right )} \\cos{\\left (\\alpha \\right )} & \\sin{\\left (\\alpha \\right )} \\sin{\\left (\\gamma \\right )} - \\sin{\\left (\\beta \\right )} \\cos{\\left (\\alpha \\right )} \\cos{\\left (\\gamma \\right )}\\\\- \\sin{\\left (\\gamma \\right )} \\cos{\\left (\\beta \\right )} & - \\sin{\\left (\\alpha \\right )} \\sin{\\left (\\beta \\right )} \\sin{\\left (\\gamma \\right )} + \\cos{\\left (\\alpha \\right )} \\cos{\\left (\\gamma \\right )} & \\sin{\\left (\\alpha \\right )} \\cos{\\left (\\gamma \\right )} + \\sin{\\left (\\beta \\right )} \\sin{\\left (\\gamma \\right )} \\cos{\\left (\\alpha \\right )}\\\\\\sin{\\left (\\beta \\right )} & - \\sin{\\left (\\alpha \\right )} \\cos{\\left (\\beta \\right )} & \\cos{\\left (\\alpha \\right )} \\cos{\\left (\\beta \\right )}\\end{matrix}\\right]$$"
      ],
      "text/plain": [
       "⎡cos(β)⋅cos(γ)   sin(α)⋅sin(β)⋅cos(γ) + sin(γ)⋅cos(α)   sin(α)⋅sin(γ) - sin(β)\n",
       "⎢                                                                             \n",
       "⎢-sin(γ)⋅cos(β)  -sin(α)⋅sin(β)⋅sin(γ) + cos(α)⋅cos(γ)  sin(α)⋅cos(γ) + sin(β)\n",
       "⎢                                                                             \n",
       "⎣    sin(β)                 -sin(α)⋅cos(β)                         cos(α)⋅cos(\n",
       "\n",
       "⋅cos(α)⋅cos(γ)⎤\n",
       "              ⎥\n",
       "⋅sin(γ)⋅cos(α)⎥\n",
       "              ⎥\n",
       "β)            ⎦"
      ]
     },
     "metadata": {},
     "output_type": "display_data"
    }
   ],
   "source": [
    "from sympy import init_printing, Symbol, Matrix, symbols\n",
    "from IPython.display import display\n",
    "init_printing()\n",
    "r, p, y = symbols(\"alpha, beta, gamma\")\n",
    "Rx = Matrix([[1, 0, 0],\n",
    "            [0, cos(r), -sin(r)],\n",
    "            [0, sin(r), cos(r)]])\n",
    "Ry = Matrix([[cos(p), 0, sin(p)],\n",
    "            [0, 1, 0],\n",
    "            [-sin(p), 0, cos(p)]])\n",
    "Rz = Matrix([[cos(y), -sin(y), 0],\n",
    "            [sin(y), cos(y), 0],\n",
    "            [0, 0, 1]])\n",
    "R = Rx * Ry * Rz\n",
    "print(\"R =\")\n",
    "display(R)\n",
    "print(\"R.inv=\")\n",
    "display(simplify(R.inv()))"
   ]
  },
  {
   "cell_type": "markdown",
   "metadata": {},
   "source": [
    "### まとめ\n",
    "座標系を回転するか点を回転させるかで行列が変わることを確認した．\n",
    "今回登場した回転行列は4つあって，それら全てを回転行列と呼ぶので，「回転行列」でググった時に4つのうちどの回転行列がヒットするかは不明なので要注意．\n",
    "\n",
    "具体的には，座標系A->座標系Bへの回転をロール$\\alpha$・ピッチ$\\beta$・ヨー$\\gamma$で表現するとし，\n",
    "座標系Aの中で点Q->点Rへの回転をロール$\\alpha$・ピッチ$\\beta$・ヨー$\\gamma$で表現するとすると，\n",
    "$$\n",
    "\\begin{align}\n",
    "{}^{B}p_{O}^{Q} &=\n",
    "\\begin{pmatrix}\n",
    "  \\cos\\beta \\cos\\gamma & \\sin\\gamma \\cos\\beta & - \\sin\\beta\\\\\n",
    "  \\sin\\alpha \\sin\\beta \\cos\\gamma - \\sin\\gamma \\cos\\alpha & \\sin\\alpha \\sin\\beta \\sin\\gamma + \\cos\\alpha \\cos\\gamma & \\sin\\alpha \\cos\\beta\\\\\n",
    "  \\sin\\alpha \\sin\\gamma + \\sin\\beta \\cos\\alpha \\cos\\gamma & - \\sin\\alpha \\cos\\gamma + \\sin\\beta \\sin\\gamma \\cos\\alpha & \\cos\\alpha \\cos\\beta\n",
    "\\end{pmatrix}\n",
    "{}^{A}p_{O}^{Q}\\\\\n",
    "{}^{A}p_{O}^{Q} &=\n",
    "\\begin{pmatrix}\n",
    "  \\cos\\beta \\cos\\gamma & \\sin\\alpha \\sin\\beta \\cos\\gamma - \\sin\\gamma \\cos\\alpha & \\sin\\alpha \\sin\\gamma + \\sin\\beta \\cos\\alpha \\cos\\gamma\\\\\n",
    "  \\sin\\gamma \\cos\\beta & \\sin\\alpha \\sin\\beta \\sin\\gamma + \\cos\\alpha \\cos\\gamma & - \\sin\\alpha \\cos\\gamma + \\sin\\beta \\sin\\gamma \\cos\\alpha\\\\\n",
    "  - \\sin\\beta & \\sin\\alpha \\cos\\beta & \\cos\\alpha \\cos\\beta\n",
    "\\end{pmatrix}\n",
    "{}^{B}p_{O}^{Q}\\\\\n",
    "{}^{A}p_{O}^{R} &=\n",
    "\\begin{pmatrix}\n",
    "  \\cos\\beta \\cos\\gamma & - \\sin\\gamma \\cos\\beta & \\sin\\beta\\\\\n",
    "  \\sin\\alpha \\sin\\beta \\cos\\gamma + \\sin\\gamma \\cos\\alpha & - \\sin\\alpha \\sin\\beta \\sin\\gamma + \\cos\\alpha \\cos\\gamma & - \\sin\\alpha \\cos\\beta\\\\\n",
    "  \\sin\\alpha \\sin\\gamma - \\sin\\beta \\cos\\alpha \\cos\\gamma & \\sin\\alpha \\cos\\gamma + \\sin\\beta \\sin\\gamma \\cos\\alpha & \\cos\\alpha \\cos\\beta\n",
    "\\end{pmatrix}\n",
    "{}^{A}p_{O}^{Q}\\\\\n",
    "{}^{A}p_{O}^{Q} &=\n",
    "\\begin{pmatrix}\n",
    "  \\cos\\beta \\cos\\gamma & \\sin\\alpha \\sin\\beta \\cos\\gamma + \\sin\\gamma \\cos\\alpha & \\sin\\alpha \\sin\\gamma - \\sin\\beta \\cos\\alpha \\cos\\gamma\\\\\n",
    "  - \\sin\\gamma \\cos\\beta & - \\sin\\alpha \\sin\\beta \\sin\\gamma + \\cos\\alpha \\cos\\gamma & \\sin\\alpha \\cos\\gamma + \\sin\\beta \\sin\\gamma \\cos\\alpha\\\\\n",
    "  \\sin\\beta & - \\sin\\alpha \\cos\\beta & \\cos\\alpha \\cos\\beta\n",
    "\\end{pmatrix}\n",
    "{}^{A}p_{O}^{R}\\\\\n",
    "\\end{align}\n",
    "$$"
   ]
  },
  {
   "cell_type": "code",
   "execution_count": 36,
   "metadata": {
    "collapsed": false
   },
   "outputs": [
    {
     "name": "stdout",
     "output_type": "stream",
     "text": [
      "R_coords =\n"
     ]
    },
    {
     "data": {
      "image/png": "[encoded data removed]",
      "text/latex": [
       "$$\\left[\\begin{matrix}- \\frac{\\sqrt{3}}{2} & 0 & - \\frac{1}{2}\\\\\\frac{1}{2} & 0 & - \\frac{\\sqrt{3}}{2}\\\\0 & -1 & 0\\end{matrix}\\right]$$"
      ],
      "text/plain": [
       "⎡   ___              ⎤\n",
       "⎢-╲╱ 3               ⎥\n",
       "⎢───────  0    -1/2  ⎥\n",
       "⎢   2                ⎥\n",
       "⎢                    ⎥\n",
       "⎢                ___ ⎥\n",
       "⎢             -╲╱ 3  ⎥\n",
       "⎢  1/2    0   ───────⎥\n",
       "⎢                2   ⎥\n",
       "⎢                    ⎥\n",
       "⎣   0     -1     0   ⎦"
      ]
     },
     "metadata": {},
     "output_type": "display_data"
    },
    {
     "name": "stdout",
     "output_type": "stream",
     "text": [
      "R_coords.inv=\n"
     ]
    },
    {
     "data": {
      "image/png": "[encoded data removed]",
      "text/latex": [
       "$$\\left[\\begin{matrix}- \\frac{\\sqrt{3}}{2} & \\frac{1}{2} & 0\\\\0 & 0 & -1\\\\- \\frac{1}{2} & - \\frac{\\sqrt{3}}{2} & 0\\end{matrix}\\right]$$"
      ],
      "text/plain": [
       "⎡   ___              ⎤\n",
       "⎢-╲╱ 3               ⎥\n",
       "⎢───────    1/2    0 ⎥\n",
       "⎢   2                ⎥\n",
       "⎢                    ⎥\n",
       "⎢   0        0     -1⎥\n",
       "⎢                    ⎥\n",
       "⎢            ___     ⎥\n",
       "⎢         -╲╱ 3      ⎥\n",
       "⎢ -1/2    ───────  0 ⎥\n",
       "⎣            2       ⎦"
      ]
     },
     "metadata": {},
     "output_type": "display_data"
    },
    {
     "name": "stdout",
     "output_type": "stream",
     "text": [
      "R_point =\n"
     ]
    },
    {
     "data": {
      "image/png": "[encoded data removed]",
      "text/latex": [
       "$$\\left[\\begin{matrix}- \\frac{\\sqrt{3}}{2} & 0 & \\frac{1}{2}\\\\\\frac{1}{2} & 0 & \\frac{\\sqrt{3}}{2}\\\\0 & 1 & 0\\end{matrix}\\right]$$"
      ],
      "text/plain": [
       "⎡   ___           ⎤\n",
       "⎢-╲╱ 3            ⎥\n",
       "⎢───────  0   1/2 ⎥\n",
       "⎢   2             ⎥\n",
       "⎢                 ⎥\n",
       "⎢              ___⎥\n",
       "⎢            ╲╱ 3 ⎥\n",
       "⎢  1/2    0  ─────⎥\n",
       "⎢              2  ⎥\n",
       "⎢                 ⎥\n",
       "⎣   0     1    0  ⎦"
      ]
     },
     "metadata": {},
     "output_type": "display_data"
    },
    {
     "name": "stdout",
     "output_type": "stream",
     "text": [
      "R_point.inv=\n"
     ]
    },
    {
     "data": {
      "image/png": "[encoded data removed]",
      "text/latex": [
       "$$\\left[\\begin{matrix}- \\frac{\\sqrt{3}}{2} & \\frac{1}{2} & 0\\\\0 & 0 & 1\\\\\\frac{1}{2} & \\frac{\\sqrt{3}}{2} & 0\\end{matrix}\\right]$$"
      ],
      "text/plain": [
       "⎡   ___           ⎤\n",
       "⎢-╲╱ 3            ⎥\n",
       "⎢───────   1/2   0⎥\n",
       "⎢   2             ⎥\n",
       "⎢                 ⎥\n",
       "⎢   0       0    1⎥\n",
       "⎢                 ⎥\n",
       "⎢           ___   ⎥\n",
       "⎢         ╲╱ 3    ⎥\n",
       "⎢  1/2    ─────  0⎥\n",
       "⎣           2     ⎦"
      ]
     },
     "metadata": {},
     "output_type": "display_data"
    },
    {
     "name": "stdout",
     "output_type": "stream",
     "text": [
      "[[ -8.66025404e-01   5.00000000e-01  -1.53080850e-16   0.00000000e+00]\n",
      " [  1.06057524e-16  -1.22464680e-16  -1.00000000e+00   0.00000000e+00]\n",
      " [ -5.00000000e-01  -8.66025404e-01   5.30287619e-17   0.00000000e+00]\n",
      " [  0.00000000e+00   0.00000000e+00   0.00000000e+00   1.00000000e+00]]\n"
     ]
    }
   ],
   "source": [
    "from sympy import init_printing, Symbol, Matrix, symbols, pi\n",
    "from IPython.display import display\n",
    "init_printing()\n",
    "r, p, y = symbols(\"alpha, beta, gamma\")\n",
    "var = [(r, -pi/2), (p, pi/6), (y, pi)]\n",
    "\n",
    "Rx_coords = Matrix([[1, 0, 0],\n",
    "                    [0, cos(r), sin(r)],\n",
    "                    [0, -sin(r), cos(r)]])\n",
    "Ry_coords = Matrix([[cos(p), 0, -sin(p)],\n",
    "                    [0, 1, 0],\n",
    "                    [sin(p), 0, cos(p)]])\n",
    "Rz_coords = Matrix([[cos(y), sin(y), 0],\n",
    "                    [-sin(y), cos(y), 0],\n",
    "                    [0, 0, 1]])\n",
    "R_coords = Rx_coords * Ry_coords * Rz_coords\n",
    "print(\"R_coords =\")\n",
    "display(R_coords.subs(var))\n",
    "print(\"R_coords.inv=\")\n",
    "display(R_coords.transpose().subs(var))\n",
    "\n",
    "Rx_point = Matrix([[1, 0, 0],\n",
    "                    [0, cos(r), -sin(r)],\n",
    "                    [0, sin(r), cos(r)]])\n",
    "Ry_point = Matrix([[cos(p), 0, sin(p)],\n",
    "                    [0, 1, 0],\n",
    "                    [-sin(p), 0, cos(p)]])\n",
    "Rz_point = Matrix([[cos(y), -sin(y), 0],\n",
    "                    [sin(y), cos(y), 0],\n",
    "                    [0, 0, 1]])\n",
    "R_point = Rx_point * Ry_point * Rz_point\n",
    "print(\"R_point =\")\n",
    "display(R_point.subs(var))\n",
    "print(\"R_point.inv=\")\n",
    "display(R_point.transpose().subs(var))\n",
    "\n",
    "import tf, math\n",
    "print tf.transformations.euler_matrix(-math.pi/2, math.pi/6, math.pi)"
   ]
  },
  {
   "cell_type": "code",
   "execution_count": null,
   "metadata": {
    "collapsed": true
   },
   "outputs": [],
   "source": []
  }
 ],
 "metadata": {
  "kernelspec": {
   "display_name": "Python 2",
   "language": "python",
   "name": "python2"
  },
  "language_info": {
   "codemirror_mode": {
    "name": "ipython",
    "version": 2
   },
   "file_extension": ".py",
   "mimetype": "text/x-python",
   "name": "python",
   "nbconvert_exporter": "python",
   "pygments_lexer": "ipython2",
   "version": "2.7.12"
  }
 },
 "nbformat": 4,
 "nbformat_minor": 1
}
